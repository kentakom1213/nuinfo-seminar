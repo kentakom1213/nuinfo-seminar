{
 "cells": [
  {
   "cell_type": "markdown",
   "metadata": {},
   "source": [
    "# 統計学\n",
    "\n",
    "- [確率変数の分散 - 統計WEB](https://bellcurve.jp/statistics/course/6716.html)"
   ]
  },
  {
   "cell_type": "markdown",
   "metadata": {},
   "source": [
    "## 期待値の性質\n",
    "\n",
    "- 期待値には線形性がある"
   ]
  },
  {
   "cell_type": "markdown",
   "metadata": {},
   "source": [
    "## 分散\n",
    "### 離散型確率変数の分散\n",
    "\n",
    "$$\n",
    "\\begin{align*}\n",
    "    \\begin{array}{l|llll}\n",
    "        X & x_1 & x_2 & \\dots & x_{n-1} & x_n\\\\\n",
    "        \\hline\n",
    "        P(X) & p_1 & p_2 & \\dots & p_{n-1} & p_n\n",
    "    \\end{array}\n",
    "\\end{align*}\n",
    "$$\n",
    "\n",
    "$$\n",
    "V(X) = \\sum_{i=1}^{n} (x_i - \\mu)^2 p_i\n",
    "$$\n",
    "\n",
    "### 連続型確率変数の分散\n",
    "\n",
    "$$\n",
    "V(X) = \\int_{-\\infty}^{\\infty} (x-\\mu)^2 f(x) dx\n",
    "$$\n"
   ]
  }
 ],
 "metadata": {
  "language_info": {
   "name": "python"
  },
  "orig_nbformat": 4
 },
 "nbformat": 4,
 "nbformat_minor": 2
}
