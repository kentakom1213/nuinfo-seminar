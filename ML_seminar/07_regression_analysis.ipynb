{
 "cells": [
  {
   "cell_type": "markdown",
   "metadata": {},
   "source": [
    "# 単回帰分析と重回帰分析"
   ]
  },
  {
   "cell_type": "markdown",
   "metadata": {},
   "source": [
    "## 重回帰推定\n",
    "### 行列の微分\n",
    "\n",
    "$$\n",
    "\\frac{\\partial}{\\partial x} x^{\\top} a=\\frac{\\partial}{\\partial x} a^{\\top} x=a\n",
    "$$\n",
    "\n",
    "$$\n",
    "\\frac{\\partial}{\\partial x} x^{\\top} A x=\\left(A+A^{\\top}\\right) x\n",
    "$$\n",
    "\n",
    "$\\uparrow$ 要復習\n",
    "\n",
    "\n",
    "中心極限定理???\n"
   ]
  },
  {
   "cell_type": "markdown",
   "metadata": {},
   "source": [
    "## 最尤推定\n",
    "\n",
    "$$\n",
    "L(\\theta) = \\prod P(X_i=x_i)\n",
    "$$\n",
    "\n",
    "データから得られる確率が最も尤もらしい値になるようなパラメータを求める\n",
    "\n",
    "$\\rightarrow$ コインを投げて5回中5回表が出た時、最尤推定では表が出る確率は$1$になってしまう。"
   ]
  },
  {
   "cell_type": "markdown",
   "metadata": {},
   "source": [
    "##  MAP推定\n",
    "\n",
    "### ベイズの定理\n",
    "$$\n",
    "\\begin{align*}\n",
    "P(A|B) &= \\frac{P(A\\cap B)}{P(A)}\\\\\n",
    "&= \\frac{P(B|A) P(A)}{P(B)}\n",
    "\\end{align*}\n",
    "$$\n",
    "\n",
    "パラメータ $\\theta$ も確率変数と考えて、確率を最大化する $\\theta$ を求める。\n",
    "\n",
    "$$\n",
    "P(\\theta | D) = \\frac{P(D | \\theta)P(\\theta)}{P(D)}\n",
    "$$"
   ]
  }
 ],
 "metadata": {
  "interpreter": {
   "hash": "d0e59a53f67793cf7ac7f714ede3ec5c1443e5936030848320672a7820a64ee6"
  },
  "kernelspec": {
   "display_name": "Python 3.10.2 ('.nuinfo-seminar': venv)",
   "language": "python",
   "name": "python3"
  },
  "language_info": {
   "name": "python",
   "version": "3.10.2"
  },
  "orig_nbformat": 4
 },
 "nbformat": 4,
 "nbformat_minor": 2
}
