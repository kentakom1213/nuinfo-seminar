{
 "cells": [
  {
   "cell_type": "markdown",
   "metadata": {},
   "source": [
    "# 確率統計の基礎\n"
   ]
  },
  {
   "cell_type": "markdown",
   "metadata": {},
   "source": [
    "## 正規分布表を使おう\n",
    "\n",
    "- $P(Z \\ge 1.96)$ を求めよ\n",
    "\n",
    "表より、$0.025$\n",
    "\n",
    "- $X〜N(5, 2^2)$ のとき、$P(6<X<8)$ を求めよ\n"
   ]
  },
  {
   "cell_type": "markdown",
   "metadata": {},
   "source": [
    "## 正規分布\n",
    "\n",
    "平均 $\\mu$、分散 $\\sigma^2$ に従う正規分布を $N(\\mu, \\sigma^2)$ と表す。\n",
    "\n",
    "確率変数 $X$ が正規分布 $N(\\mu, \\sigma^2)$ に従うことを、 $X〜N(\\mu, \\sigma^2)$ と表す。\n",
    "\n",
    "### 確率密度関数 $f(x)$\n",
    "\n",
    "$$\n",
    "f(x) = \\frac{1}{\\sqrt{2\\pi\\sigma^2}}\\ exp\\left(-\\frac{(x-\\mu)^2}{2\\sigma^2}\\right)\n",
    "$$\n",
    "\n",
    "## 確率変数の正規化\n",
    "\n",
    "確率変数 $X$ に関して、\n",
    "\n",
    "$$\n",
    "Z = \\frac{X - \\mu}{\\sigma}\n",
    "$$\n",
    "\n",
    "の値を取ると、\n",
    "\n",
    "$Z$ は**標準正規分布** $N(0, 1^2)$ に従う。\n"
   ]
  },
  {
   "cell_type": "code",
   "execution_count": 5,
   "metadata": {},
   "outputs": [
    {
     "data": {
      "image/png": "[encoded data removed]",
      "text/plain": [
       "<Figure size 432x288 with 1 Axes>"
      ]
     },
     "metadata": {
      "needs_background": "light"
     },
     "output_type": "display_data"
    }
   ],
   "source": [
    "import numpy as np\n",
    "import matplotlib.pyplot as plt\n",
    "\n",
    "def set_f(sigma, mu):\n",
    "    def f(x):\n",
    "        a = np.sqrt(2 * np.pi * sigma ** 2)\n",
    "        b = - (x - mu) ** 2 / (2 * sigma ** 2)\n",
    "        return a * np.exp(b)\n",
    "    return f\n",
    "\n",
    "f = set_f(1, 0)\n",
    "f2 = set_f(2, 4)\n",
    "\n",
    "x = np.arange(-5, 8, 0.01)\n",
    "y = f(x)\n",
    "y2 = f2(x)\n",
    "\n",
    "plt.plot(x, y)\n",
    "plt.plot(x, y2)\n",
    "plt.grid()"
   ]
  },
  {
   "cell_type": "markdown",
   "metadata": {},
   "source": [
    "## 標本の統計量\n",
    "\n",
    "### 標本平均\n",
    "$$\n",
    "\\bar{X} = \\frac{1}{n} \\sum_{i=1}^{n} X_i\n",
    "$$\n",
    "\n",
    "### 不遍分散\n",
    "$$\n",
    "s^2 = \\frac{1}{n-1} \\sum_{i=1}^{n} (x_i - \\bar{x})^2\n",
    "$$\n"
   ]
  }
 ],
 "metadata": {
  "interpreter": {
   "hash": "d0e59a53f67793cf7ac7f714ede3ec5c1443e5936030848320672a7820a64ee6"
  },
  "kernelspec": {
   "display_name": "Python 3.10.2 ('.nuinfo-seminar': venv)",
   "language": "python",
   "name": "python3"
  },
  "language_info": {
   "codemirror_mode": {
    "name": "ipython",
    "version": 3
   },
   "file_extension": ".py",
   "mimetype": "text/x-python",
   "name": "python",
   "nbconvert_exporter": "python",
   "pygments_lexer": "ipython3",
   "version": "3.10.2"
  },
  "orig_nbformat": 4
 },
 "nbformat": 4,
 "nbformat_minor": 2
}
