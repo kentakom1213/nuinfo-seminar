{
 "cells": [
  {
   "cell_type": "markdown",
   "metadata": {},
   "source": [
    "# 線形代数"
   ]
  },
  {
   "cell_type": "markdown",
   "metadata": {},
   "source": [
    "## 線形結合\n",
    "\n",
    "あるベクトルをその他のベクトルの和で表す\n",
    "\n",
    "$$\n",
    "W =\n",
    "\\left\\{\n",
    "    \\begin{array}{c}\n",
    "        x \\\\ y \\\\ z\n",
    "    \\end{array}\n",
    "    \\middle| 2x + y - z = 0\n",
    "\\right\\}\n",
    "$$"
   ]
  },
  {
   "cell_type": "markdown",
   "metadata": {},
   "source": [
    "### 練習問題 5-1"
   ]
  },
  {
   "cell_type": "code",
   "execution_count": 9,
   "metadata": {},
   "outputs": [],
   "source": [
    "import numpy as np"
   ]
  },
  {
   "cell_type": "code",
   "execution_count": 7,
   "metadata": {},
   "outputs": [
    {
     "name": "stdout",
     "output_type": "stream",
     "text": [
      "[9, 3, 5]\n"
     ]
    }
   ],
   "source": [
    "def vector_sum(X, Y):\n",
    "    return [x+y for x, y in zip(X, Y)]\n",
    "  \n",
    "x = [1, 2, 3]\n",
    "y = [8, 1, 2]\n",
    "answer = vector_sum(x, y)\n",
    "print(answer)"
   ]
  },
  {
   "cell_type": "code",
   "execution_count": 2,
   "metadata": {},
   "outputs": [
    {
     "name": "stdout",
     "output_type": "stream",
     "text": [
      "[[9, 3, 5], [3, 5, 4]]\n"
     ]
    }
   ],
   "source": [
    "def matrix_sum(X, Y):\n",
    "    return [[x+y for x, y in zip(vx, vy)] for vx, vy in zip(X, Y)]\n",
    "\n",
    "X = [[1, 2, 3],\n",
    "     [4, 5, 6]]\n",
    "Y = [[8, 1, 2],\n",
    "     [-1, 0, -2]]\n",
    "answer = matrix_sum(X, Y)\n",
    "print(answer)"
   ]
  },
  {
   "cell_type": "code",
   "execution_count": 15,
   "metadata": {},
   "outputs": [
    {
     "name": "stdout",
     "output_type": "stream",
     "text": [
      "[16, 49]\n"
     ]
    }
   ],
   "source": [
    "def matrix_vector_product(X, y):\n",
    "    return [sum(i*j for i, j in zip(x, y)) for x in X]\n",
    "\n",
    "X = [[1, 2, 3],\n",
    "     [4, 5, 6]]\n",
    "y = [8, 1, 2]\n",
    "answer = matrix_vector_product(X, y)\n",
    "print(answer) "
   ]
  },
  {
   "cell_type": "markdown",
   "metadata": {},
   "source": [
    "$$\n",
    "A = \n",
    "\\left[\n",
    "    \\begin{array}{ccc}\n",
    "        a & b & c\\\\\n",
    "        d & e & f\n",
    "    \\end{array}\n",
    "\\right] =\n",
    "\\left[\n",
    "    \\begin{array}{ccc}\n",
    "        a_1\\\\\n",
    "        a_2\n",
    "    \\end{array}\n",
    "\\right]\\\\\n",
    "\n",
    "B =\n",
    "\\left[\n",
    "    \\begin{array}{cc}\n",
    "        g & h\\\\\n",
    "        i & j\\\\\n",
    "        k & l\n",
    "    \\end{array}\n",
    "\\right] = \n",
    "\\left[\n",
    "    b_1, b_2\n",
    "\\right]\n",
    "$$\n",
    "\n",
    "とおくと\n",
    "\n",
    "$$\n",
    "AB = \n",
    "\\left[\n",
    "    \\begin{array}{cc}\n",
    "        a_1\\cdot b_1 & a_1\\cdot b_2\\\\\n",
    "        a_2\\cdot b_1 & a_2\\cdot b_2\n",
    "    \\end{array}\n",
    "\\right]\n",
    "$$"
   ]
  },
  {
   "cell_type": "code",
   "execution_count": 16,
   "metadata": {},
   "outputs": [
    {
     "name": "stdout",
     "output_type": "stream",
     "text": [
      "[[6, 4], [27, 10]]\n"
     ]
    }
   ],
   "source": [
    "def vector_product(A, B):\n",
    "    return sum(a*b for a, b in zip(A, B))\n",
    "\n",
    "def matrix_product(X, Y):\n",
    "    YT = list(zip(*Y))  # 行列を転置\n",
    "    r, c, t = len(X), len(Y[0]), len(YT)\n",
    "    ans = [[0]*r for _ in range(c)]  # 答えを初期化\n",
    "    for i in range(r):\n",
    "        for j in range(c):\n",
    "            ans[i][j] = vector_product(X[i], YT[j])\n",
    "    return ans\n",
    "\n",
    "X = [[1, 2, 3],\n",
    "     [4, 5, 6]]\n",
    "Y = [[8, 1],\n",
    "     [-1, 0],\n",
    "     [0, 1]]\n",
    "answer = matrix_product(X, Y)\n",
    "print(answer)"
   ]
  },
  {
   "cell_type": "code",
   "execution_count": 10,
   "metadata": {},
   "outputs": [
    {
     "data": {
      "text/plain": [
       "array([[ 6,  4],\n",
       "       [27, 10]])"
      ]
     },
     "execution_count": 10,
     "metadata": {},
     "output_type": "execute_result"
    }
   ],
   "source": [
    "import numpy as np\n",
    "\n",
    "X_arr = np.array(X)\n",
    "Y_arr = np.array(Y)\n",
    "\n",
    "np.dot(X_arr, Y_arr)"
   ]
  },
  {
   "cell_type": "code",
   "execution_count": 17,
   "metadata": {},
   "outputs": [
    {
     "name": "stdout",
     "output_type": "stream",
     "text": [
      "[[1, 4], [2, 5], [3, 6]]\n"
     ]
    }
   ],
   "source": [
    "def matrix_transpose(X):\n",
    "    r, c = len(X), len(X[0])\n",
    "    ans = [[0]*r for _ in range(c)]\n",
    "    for i in range(c):\n",
    "        for j in range(r):\n",
    "            ans[i][j] = X[j][i]\n",
    "    \n",
    "    return ans\n",
    "\n",
    "X = [[1, 2, 3],\n",
    "     [4, 5, 6]]\n",
    "answer = matrix_transpose(X)\n",
    "print(answer) "
   ]
  },
  {
   "cell_type": "code",
   "execution_count": 5,
   "metadata": {},
   "outputs": [
    {
     "name": "stdout",
     "output_type": "stream",
     "text": [
      "[(1, 4), (2, 5), (3, 6)]\n"
     ]
    }
   ],
   "source": [
    "def matrix_transpose(X):\n",
    "    return list(zip(*X))\n",
    "\n",
    "X = [[1, 2, 3],\n",
    "     [4, 5, 6]]\n",
    "answer = matrix_transpose(X)\n",
    "print(answer) "
   ]
  }
 ],
 "metadata": {
  "interpreter": {
   "hash": "d0e59a53f67793cf7ac7f714ede3ec5c1443e5936030848320672a7820a64ee6"
  },
  "kernelspec": {
   "display_name": "Python 3.10.2 ('.nuinfo-seminar': venv)",
   "language": "python",
   "name": "python3"
  },
  "language_info": {
   "codemirror_mode": {
    "name": "ipython",
    "version": 3
   },
   "file_extension": ".py",
   "mimetype": "text/x-python",
   "name": "python",
   "nbconvert_exporter": "python",
   "pygments_lexer": "ipython3",
   "version": "3.10.2"
  },
  "orig_nbformat": 4
 },
 "nbformat": 4,
 "nbformat_minor": 2
}
