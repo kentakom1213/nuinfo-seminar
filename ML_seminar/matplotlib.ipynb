{
 "cells": [
  {
   "cell_type": "markdown",
   "metadata": {},
   "source": [
    "# Pythonによるデータ可視化入門\n",
    "\n",
    "### ネタ\n",
    "- matplotlib.pyplot\n",
    "- matplotlib.animation\n",
    "- seaborn\n",
    "- bokeh\n",
    "- plotly\n",
    "- graphviz"
   ]
  },
  {
   "cell_type": "markdown",
   "metadata": {},
   "source": [
    "## matplotlib.animation\n",
    "\n",
    "- [matplotlib でアニメーションを作る - Qiita](https://qiita.com/yubais/items/c95ba9ff1b23dd33fde2)\n",
    "- [matplotlib.animationでグラフをアニメーションさせる - Qiita](https://qiita.com/studio_haneya/items/891c4ea6a7326919e381)"
   ]
  }
 ],
 "metadata": {
  "interpreter": {
   "hash": "d0e59a53f67793cf7ac7f714ede3ec5c1443e5936030848320672a7820a64ee6"
  },
  "kernelspec": {
   "display_name": "Python 3.10.2 ('.nuinfo-seminar': venv)",
   "language": "python",
   "name": "python3"
  },
  "language_info": {
   "name": "python",
   "version": "3.10.2"
  },
  "orig_nbformat": 4
 },
 "nbformat": 4,
 "nbformat_minor": 2
}
